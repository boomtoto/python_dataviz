{
 "cells": [
  {
   "cell_type": "markdown",
   "metadata": {},
   "source": [
    "# Function\n",
    "### print ชื่อ XXX นามสกุล YYY รหัส ZZZ\n",
    "### print เกรด วิชา stat1 >>> AAA"
   ]
  },
  {
   "cell_type": "code",
   "execution_count": 15,
   "metadata": {},
   "outputs": [
    {
     "name": "stdout",
     "output_type": "stream",
     "text": [
      "ชื่อ ณัฐฤทธิ์ นามสกุล เศวตวรานนท์ รหัส 603021863-3\n"
     ]
    }
   ],
   "source": [
    "a = 'ชื่อ ณัฐฤทธิ์ นามสกุล เศวตวรานนท์ รหัส 603021863-3'\n",
    "print (a)"
   ]
  },
  {
   "cell_type": "code",
   "execution_count": 16,
   "metadata": {},
   "outputs": [
    {
     "name": "stdout",
     "output_type": "stream",
     "text": [
      "ชื่อ ณัฐฤทธิ์ นามสกุล เศวตวรานนท์ รหัส 603021863-3\n"
     ]
    }
   ],
   "source": [
    "name = 'ณัฐฤทธิ์' \n",
    "surname = 'เศวตวรานนท์'\n",
    "ID = '603021863-3'\n",
    "\n",
    "\n",
    "b = f'ชื่อ {name} นามสกุล {surname} รหัส {ID}'\n",
    "print (b)"
   ]
  },
  {
   "cell_type": "markdown",
   "metadata": {},
   "source": [
    "### วิธีการสร้าง Function"
   ]
  },
  {
   "cell_type": "markdown",
   "metadata": {},
   "source": [
    "```python\n",
    "    def function_name(x):\n",
    "        do_someting\n",
    "        return y\n",
    "```"
   ]
  },
  {
   "cell_type": "markdown",
   "metadata": {},
   "source": [
    "### normal function"
   ]
  },
  {
   "cell_type": "code",
   "execution_count": 17,
   "metadata": {},
   "outputs": [],
   "source": [
    "def print_line1(name1,surname1,ID1,):\n",
    "    st = f'ชื่อ {name1} นามสกุล {surname1} รหัส {ID1}'\n",
    "    return st"
   ]
  },
  {
   "cell_type": "code",
   "execution_count": 18,
   "metadata": {
    "scrolled": true
   },
   "outputs": [
    {
     "name": "stdout",
     "output_type": "stream",
     "text": [
      "ชื่อ แตงโม นามสกุล สังทอง รหัส 1112\n"
     ]
    }
   ],
   "source": [
    "print(print_line1('แตงโม','สังทอง','1112'))"
   ]
  },
  {
   "cell_type": "markdown",
   "metadata": {},
   "source": []
  },
  {
   "cell_type": "code",
   "execution_count": 19,
   "metadata": {},
   "outputs": [],
   "source": [
    "def print_2line(name1,surname1,ID1,grade):\n",
    "    st = f'ชื่อ {name1} นามสกุล {surname1} รหัส {ID1}'\n",
    "    print (st)\n",
    "    st2 = f'เกรดวิชา stat1 >>> {grade}'\n",
    "    print(st2)"
   ]
  },
  {
   "cell_type": "code",
   "execution_count": 20,
   "metadata": {},
   "outputs": [
    {
     "name": "stdout",
     "output_type": "stream",
     "text": [
      "ชื่อ แตงโม นามสกุล สังทอง รหัส 1112\n",
      "เกรดวิชา stat1 >>> A\n"
     ]
    }
   ],
   "source": [
    "print_2line('แตงโม','สังทอง','1112','A')"
   ]
  },
  {
   "cell_type": "code",
   "execution_count": 21,
   "metadata": {},
   "outputs": [],
   "source": [
    "def print_3line(name1,surname1,ID1,grade):\n",
    "    st = f'ชื่อ {name1} นามสกุล {surname1} รหัส {ID1}'\n",
    "    print (st)\n",
    "    st2 = f'เกรดวิชา stat1 >>> {grade}'\n",
    "    print(st2)"
   ]
  },
  {
   "cell_type": "code",
   "execution_count": 22,
   "metadata": {},
   "outputs": [
    {
     "name": "stdout",
     "output_type": "stream",
     "text": [
      "ชื่อ ณัฐฤทธิ์ นามสกุล เศวตวรานนท์ รหัส 603021863-3\n",
      "เกรดวิชา stat1 >>> A\n",
      "ชื่อ กฤตยา นามสกุล สังไทย รหัส 603021853-6\n",
      "เกรดวิชา stat1 >>> A\n",
      "ชื่อ ลั่นฟ้า นามสกุล บุญรอด รหัส 603021885-3\n",
      "เกรดวิชา stat1 >>> A\n"
     ]
    }
   ],
   "source": [
    "print_3line('ณัฐฤทธิ์','เศวตวรานนท์','603021863-3','A')\n",
    "print_3line('กฤตยา','สังไทย','603021853-6','A')\n",
    "print_3line('ลั่นฟ้า','บุญรอด','603021885-3','A')"
   ]
  },
  {
   "cell_type": "markdown",
   "metadata": {},
   "source": [
    "###  function without output"
   ]
  },
  {
   "cell_type": "code",
   "execution_count": 23,
   "metadata": {},
   "outputs": [],
   "source": [
    "def two_x_three():\n",
    "    x = 2*3\n",
    "    return x"
   ]
  },
  {
   "cell_type": "code",
   "execution_count": 24,
   "metadata": {},
   "outputs": [
    {
     "data": {
      "text/plain": [
       "6"
      ]
     },
     "execution_count": 24,
     "metadata": {},
     "output_type": "execute_result"
    }
   ],
   "source": [
    "two_x_three()"
   ]
  },
  {
   "cell_type": "markdown",
   "metadata": {},
   "source": [
    "### function with default argument"
   ]
  },
  {
   "cell_type": "code",
   "execution_count": 25,
   "metadata": {},
   "outputs": [],
   "source": [
    "def print_2line_default(name1,surname1,ID1,grade='F'):\n",
    "    st = f'ชื่อ {name1} นามสกุล {surname1} รหัส {ID1}'\n",
    "    print(st)\n",
    "    st2 = f'เกรดวิชา stat1 >>> {grade}'\n",
    "    print(st2)"
   ]
  },
  {
   "cell_type": "code",
   "execution_count": 26,
   "metadata": {},
   "outputs": [
    {
     "name": "stdout",
     "output_type": "stream",
     "text": [
      "ชื่อ แตงโม นามสกุล สังทอง รหัส 1112\n",
      "เกรดวิชา stat1 >>> F\n"
     ]
    }
   ],
   "source": [
    "print_2line_default('แตงโม','สังทอง','1112')"
   ]
  },
  {
   "cell_type": "code",
   "execution_count": 27,
   "metadata": {},
   "outputs": [
    {
     "name": "stdout",
     "output_type": "stream",
     "text": [
      "ชื่อ แตงโม นามสกุล สังทอง รหัส 1112\n",
      "เกรดวิชา stat1 >>> A\n"
     ]
    }
   ],
   "source": [
    "print_2line_default('แตงโม','สังทอง','1112','A')"
   ]
  },
  {
   "cell_type": "code",
   "execution_count": 28,
   "metadata": {},
   "outputs": [
    {
     "name": "stdout",
     "output_type": "stream",
     "text": [
      "ชื่อ สังทอง นามสกุล แตงโม รหัส 1112\n",
      "เกรดวิชา stat1 >>> F\n"
     ]
    }
   ],
   "source": [
    "print_2line_default(surname1 ='แตงโม',name1 = 'สังทอง',ID1= '1112')"
   ]
  },
  {
   "cell_type": "markdown",
   "metadata": {},
   "source": [
    "## Loop (วนซ้ำ)"
   ]
  },
  {
   "cell_type": "markdown",
   "metadata": {},
   "source": [
    "```Python\n",
    "    for each_member in listA:\n",
    "        do something\n",
    "```"
   ]
  },
  {
   "cell_type": "code",
   "execution_count": 29,
   "metadata": {},
   "outputs": [
    {
     "name": "stdout",
     "output_type": "stream",
     "text": [
      "1\n",
      "2\n",
      "3\n"
     ]
    }
   ],
   "source": [
    "for i in [1,2,3]:\n",
    "    print(i)"
   ]
  },
  {
   "cell_type": "code",
   "execution_count": 30,
   "metadata": {},
   "outputs": [
    {
     "name": "stdout",
     "output_type": "stream",
     "text": [
      "N ->/\n",
      " \n",
      "a ->/\n",
      " \n",
      "t ->/\n",
      " \n",
      "t ->/\n",
      " \n",
      "h ->/\n",
      " \n",
      "a ->/\n",
      " \n",
      "r ->/\n",
      " \n",
      "i ->/\n",
      " \n",
      "t ->/\n",
      " \n"
     ]
    }
   ],
   "source": [
    "for i in 'Nattharit':\n",
    "    print(f'{i} ->/')\n",
    "    print(' ')"
   ]
  },
  {
   "cell_type": "markdown",
   "metadata": {},
   "source": [
    "### 1. สร้าง List ชื่อเพื่อน ท่อยู่ในแถวยาวเเดียวกัน\n",
    "### 2. วนลูป print ประโยคว่า ชื่อเรา XXX รัก YYY กริยา  ZZZ"
   ]
  },
  {
   "cell_type": "code",
   "execution_count": 31,
   "metadata": {},
   "outputs": [
    {
     "name": "stdout",
     "output_type": "stream",
     "text": [
      "บูม รัก แตงโม\n",
      "บูม รัก เจม\n",
      "บูม รัก พี่เจท\n",
      "บูม รัก ดาย\n",
      "บูม รัก ฝน\n"
     ]
    }
   ],
   "source": [
    "for i in ['แตงโม','เจม','พี่เจท','ดาย','ฝน']:\n",
    "    print (f'บูม รัก {i}')"
   ]
  },
  {
   "cell_type": "code",
   "execution_count": 32,
   "metadata": {},
   "outputs": [],
   "source": [
    "def print_7line(name1,Fname,React):\n",
    "    st = f' {name1} {React} {Fname} '  \n",
    "    print (st)\n",
    "   "
   ]
  },
  {
   "cell_type": "code",
   "execution_count": 33,
   "metadata": {},
   "outputs": [
    {
     "name": "stdout",
     "output_type": "stream",
     "text": [
      " บูม รัก แตงโม \n",
      " บูม รัก เจม \n",
      " บูม รัก พี่เจท \n",
      " บูม รัก ดาย \n",
      " บูม รัก ฝน \n"
     ]
    }
   ],
   "source": [
    "print_7line('บูม','แตงโม','รัก')\n",
    "print_7line('บูม','เจม','รัก')\n",
    "print_7line('บูม','พี่เจท','รัก')\n",
    "print_7line('บูม','ดาย','รัก')\n",
    "print_7line('บูม','ฝน','รัก')"
   ]
  },
  {
   "cell_type": "code",
   "execution_count": 34,
   "metadata": {},
   "outputs": [
    {
     "name": "stdout",
     "output_type": "stream",
     "text": [
      " บูม รัก แตงโม \n",
      " บูม รัก เจม \n",
      " บูม รัก พี่เจท \n",
      " บูม รัก ดาย \n",
      " บูม รัก ฝน \n"
     ]
    }
   ],
   "source": [
    "for i in ['แตงโม','เจม','พี่เจท','ดาย','ฝน']:\n",
    "    print_7line('บูม',i,'รัก')"
   ]
  },
  {
   "cell_type": "markdown",
   "metadata": {},
   "source": [
    "### loop in loop"
   ]
  },
  {
   "cell_type": "code",
   "execution_count": 35,
   "metadata": {},
   "outputs": [
    {
     "name": "stdout",
     "output_type": "stream",
     "text": [
      " แตงโม รัก แตงโม \n",
      " แตงโม รัก เจม \n",
      " แตงโม รัก พี่เจท \n",
      " แตงโม รัก ดาย \n",
      " แตงโม รัก ฝน \n",
      " เจม รัก แตงโม \n",
      " เจม รัก เจม \n",
      " เจม รัก พี่เจท \n",
      " เจม รัก ดาย \n",
      " เจม รัก ฝน \n",
      " พี่เจท รัก แตงโม \n",
      " พี่เจท รัก เจม \n",
      " พี่เจท รัก พี่เจท \n",
      " พี่เจท รัก ดาย \n",
      " พี่เจท รัก ฝน \n",
      " ดาย รัก แตงโม \n",
      " ดาย รัก เจม \n",
      " ดาย รัก พี่เจท \n",
      " ดาย รัก ดาย \n",
      " ดาย รัก ฝน \n",
      " ฝน รัก แตงโม \n",
      " ฝน รัก เจม \n",
      " ฝน รัก พี่เจท \n",
      " ฝน รัก ดาย \n",
      " ฝน รัก ฝน \n"
     ]
    }
   ],
   "source": [
    "for name1 in ['แตงโม','เจม','พี่เจท','ดาย','ฝน']:\n",
    "    for name2 in ['แตงโม','เจม','พี่เจท','ดาย','ฝน']:\n",
    "        print_7line (name1,name2,'รัก')"
   ]
  },
  {
   "cell_type": "code",
   "execution_count": null,
   "metadata": {},
   "outputs": [],
   "source": []
  },
  {
   "cell_type": "code",
   "execution_count": null,
   "metadata": {},
   "outputs": [],
   "source": []
  },
  {
   "cell_type": "markdown",
   "metadata": {},
   "source": [
    "### loop in function"
   ]
  },
  {
   "cell_type": "code",
   "execution_count": 36,
   "metadata": {},
   "outputs": [],
   "source": [
    "def print_7lines (name1,React,Fname):\n",
    "    for Fname in Fname:\n",
    "        print (f'{name1} {React} {Fname}')"
   ]
  },
  {
   "cell_type": "code",
   "execution_count": 37,
   "metadata": {},
   "outputs": [
    {
     "name": "stdout",
     "output_type": "stream",
     "text": [
      "บูม รัก แตงโม\n",
      "บูม รัก เจม\n",
      "บูม รัก พี่เจท\n",
      "บูม รัก ดาย\n",
      "บูม รัก ฝน\n"
     ]
    }
   ],
   "source": [
    "print_7lines('บูม','รัก',['แตงโม','เจม','พี่เจท','ดาย','ฝน'])"
   ]
  },
  {
   "cell_type": "markdown",
   "metadata": {},
   "source": [
    "### looping in dit"
   ]
  },
  {
   "cell_type": "code",
   "execution_count": 38,
   "metadata": {},
   "outputs": [
    {
     "data": {
      "text/plain": [
       "{'ณัฐฤทธิ์': 'B', 'นก': 'C', 'ไก่': 'A', 'ยุด': 'F'}"
      ]
     },
     "execution_count": 38,
     "metadata": {},
     "output_type": "execute_result"
    }
   ],
   "source": [
    "name_grade = {'ณัฐฤทธิ์':'B','นก':'C','ไก่':'A','ยุด':'F'}\n",
    "name_grade"
   ]
  },
  {
   "cell_type": "code",
   "execution_count": 39,
   "metadata": {},
   "outputs": [
    {
     "data": {
      "text/plain": [
       "'F'"
      ]
     },
     "execution_count": 39,
     "metadata": {},
     "output_type": "execute_result"
    }
   ],
   "source": [
    "name_grade['ยุด']"
   ]
  },
  {
   "cell_type": "code",
   "execution_count": 40,
   "metadata": {},
   "outputs": [
    {
     "name": "stdout",
     "output_type": "stream",
     "text": [
      "ณัฐฤทธิ์ ได้เกรด B\n",
      "นก ได้เกรด C\n",
      "ไก่ ได้เกรด A\n",
      "ยุด ได้เกรด F\n"
     ]
    }
   ],
   "source": [
    "for i in name_grade.keys():\n",
    "    print(f'{i} ได้เกรด {name_grade[i]}')"
   ]
  },
  {
   "cell_type": "markdown",
   "metadata": {},
   "source": [
    "### conditiona เงื่อนไข"
   ]
  },
  {
   "cell_type": "markdown",
   "metadata": {},
   "source": [
    "## == , != , >= , <= , < , >"
   ]
  },
  {
   "cell_type": "markdown",
   "metadata": {},
   "source": [
    "```Python\n",
    "if condition1:\n",
    "    do someting\n",
    "elif condoition2:\n",
    "    do another thing\n",
    "elif:\n",
    "    doo...\n",
    "```"
   ]
  },
  {
   "cell_type": "code",
   "execution_count": 41,
   "metadata": {},
   "outputs": [
    {
     "name": "stdout",
     "output_type": "stream",
     "text": [
      " แตงโม รัก เจม \n",
      " แตงโม รัก พี่เจท \n",
      " แตงโม รัก ดาย \n",
      " แตงโม รัก ฝน \n",
      " เจม รัก แตงโม \n",
      " เจม รัก พี่เจท \n",
      " เจม รัก ดาย \n",
      " เจม รัก ฝน \n",
      " พี่เจท รัก แตงโม \n",
      " พี่เจท รัก เจม \n",
      " พี่เจท รัก ดาย \n",
      " พี่เจท รัก ฝน \n",
      " ดาย รัก แตงโม \n",
      " ดาย รัก เจม \n",
      " ดาย รัก พี่เจท \n",
      " ดาย รัก ฝน \n",
      " ฝน รัก แตงโม \n",
      " ฝน รัก เจม \n",
      " ฝน รัก พี่เจท \n",
      " ฝน รัก ดาย \n"
     ]
    }
   ],
   "source": [
    "for name1 in ['แตงโม','เจม','พี่เจท','ดาย','ฝน']:\n",
    "    for name2 in ['แตงโม','เจม','พี่เจท','ดาย','ฝน']:\n",
    "        if name1 != name2:\n",
    "            print_7line (name1,name2,'รัก')"
   ]
  },
  {
   "cell_type": "code",
   "execution_count": 42,
   "metadata": {},
   "outputs": [
    {
     "name": "stdout",
     "output_type": "stream",
     "text": [
      "Yes\n"
     ]
    }
   ],
   "source": [
    "if True:\n",
    "    print('Yes')"
   ]
  },
  {
   "cell_type": "code",
   "execution_count": 43,
   "metadata": {},
   "outputs": [],
   "source": [
    "if False:\n",
    "    print('No')"
   ]
  },
  {
   "cell_type": "code",
   "execution_count": 44,
   "metadata": {},
   "outputs": [
    {
     "name": "stdout",
     "output_type": "stream",
     "text": [
      "No\n"
     ]
    }
   ],
   "source": [
    "if False:\n",
    "    print('Yes')\n",
    "else:\n",
    "    print('No')"
   ]
  },
  {
   "cell_type": "code",
   "execution_count": 45,
   "metadata": {},
   "outputs": [
    {
     "data": {
      "text/plain": [
       "True"
      ]
     },
     "execution_count": 45,
     "metadata": {},
     "output_type": "execute_result"
    }
   ],
   "source": [
    "1 == 1"
   ]
  },
  {
   "cell_type": "code",
   "execution_count": 46,
   "metadata": {},
   "outputs": [
    {
     "name": "stdout",
     "output_type": "stream",
     "text": [
      "1=1\n"
     ]
    }
   ],
   "source": [
    "if 1==1:\n",
    "    print('1=1')"
   ]
  },
  {
   "cell_type": "markdown",
   "metadata": {},
   "source": [
    "## HW\n",
    "เขียน function ตัดเกรด โดยที่input เป็นคะแนน(0-100) output เป็นเกรด (F-A)\n",
    "input = [1,50,65,90,101,-5,49]"
   ]
  },
  {
   "cell_type": "code",
   "execution_count": 55,
   "metadata": {},
   "outputs": [],
   "source": [
    "def Gr(score):\n",
    "    if 0 <= score <= 100:\n",
    "        if score < 50:\n",
    "            print(f'{score} = F')\n",
    "        elif 50 >= score < 55:\n",
    "            print(f'{score} = D')\n",
    "        elif 55 >= score < 60:\n",
    "            print(f'{score} = D+')\n",
    "        elif 60 >= score < 65:\n",
    "            print(f'{score} = C')\n",
    "        elif 65 >= score < 70:\n",
    "            print(f'{score} = C+')\n",
    "        elif 70 >= score < 75:\n",
    "            print(f'{score} = B')\n",
    "        elif 75 >= score < 80:\n",
    "            print(f'{score} = B+')\n",
    "        else:\n",
    "            print(f'{score} = A')\n",
    "    else:\n",
    "        print(f'กรอกคะแนนผิดพลาด')"
   ]
  },
  {
   "cell_type": "code",
   "execution_count": 63,
   "metadata": {},
   "outputs": [],
   "source": [
    "G = [1,50,65,90,101,-5,49]"
   ]
  },
  {
   "cell_type": "code",
   "execution_count": 65,
   "metadata": {},
   "outputs": [
    {
     "name": "stdout",
     "output_type": "stream",
     "text": [
      "1 = F\n",
      "50 = D\n",
      "65 = C+\n",
      "90 = A\n",
      "กรอกคะแนนผิดพลาด\n",
      "กรอกคะแนนผิดพลาด\n",
      "49 = F\n"
     ]
    }
   ],
   "source": [
    "for i in G:\n",
    "     Gr(i)\n",
    "    "
   ]
  },
  {
   "cell_type": "code",
   "execution_count": null,
   "metadata": {},
   "outputs": [],
   "source": []
  },
  {
   "cell_type": "code",
   "execution_count": null,
   "metadata": {},
   "outputs": [],
   "source": []
  }
 ],
 "metadata": {
  "kernelspec": {
   "display_name": "Python 3",
   "language": "python",
   "name": "python3"
  },
  "language_info": {
   "codemirror_mode": {
    "name": "ipython",
    "version": 3
   },
   "file_extension": ".py",
   "mimetype": "text/x-python",
   "name": "python",
   "nbconvert_exporter": "python",
   "pygments_lexer": "ipython3",
   "version": "3.7.3"
  }
 },
 "nbformat": 4,
 "nbformat_minor": 2
}
